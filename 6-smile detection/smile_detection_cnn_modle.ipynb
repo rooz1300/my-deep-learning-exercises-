{
 "cells": [
  {
   "cell_type": "markdown",
   "metadata": {},
   "source": [
    "# Face Classification using Convolutional Neural Networks\n",
    "\n",
    "This Jupyter notebook demonstrates a simple face classification model using Convolutional Neural Networks (CNNs). The model is trained on a dataset of face images, and it is designed to classify these images into two categories.\n",
    "\n",
    "## Table of Contents\n",
    "\n",
    "1. [Import Libraries](#import-libraries)\n",
    "2. [Load and Preprocess Data](#load-and-preprocess-data)\n",
    "3. [Split Data into Training and Testing Sets](#split-data-into-training-and-testing-sets)\n",
    "4. [Define the CNN Model](#define-the-cnn-model)\n",
    "5. [Compile the Model](#compile-the-model)\n",
    "6. [Train the Model](#train-the-model)\n",
    "7. [Evaluate the Model](#evaluate-the-model)\n",
    "8. [Save the Model](#save-the-model)\n",
    "\n",
    "## Import Libraries\n",
    "\n",
    "The necessary libraries are imported at the beginning of the notebook. These include NumPy for numerical operations, OpenCV for image processing, TensorFlow for building and training the CNN model, and scikit-learn for data preprocessing and splitting.\n",
    "\n",
    "```python\n",
    "import numpy as np\n",
    "import cv2\n",
    "from tensorflow.keras import layers, models\n",
    "import glob\n",
    "from sklearn.model_selection import train_test_split\n",
    "from tensorflow.keras.utils import to_categorical\n",
    "from sklearn.preprocessing import LabelEncoder\n",
    "```\n",
    "\n",
    "## Load and Preprocess Data\n",
    "\n",
    "The code loads face images from a specified directory and preprocesses them. The images are resized to 32x32 pixels, normalized by dividing by 255, and their corresponding labels are extracted from the directory structure.\n",
    "\n",
    "```python\n",
    "all_images = []\n",
    "all_labels = []\n",
    "\n",
    "for i, item in enumerate(glob.glob('faces/**')):\n",
    "    img = cv2.imread(item)\n",
    "    img = cv2.resize(img, (32, 32))\n",
    "    all_images.append(img)\n",
    "    all_labels.append(item.split('\\\\')[-2])\n",
    "    if i % 1000 == 0:\n",
    "        print('INFO: {} images have been loaded'.format(i))\n",
    "```\n",
    "\n",
    "## Split Data into Training and Testing Sets\n",
    "\n",
    "The dataset is split into training and testing sets using the `train_test_split` function from scikit-learn. The labels are encoded using `LabelEncoder` and then converted to categorical format using `to_categorical`.\n",
    "\n",
    "```python\n",
    "le = LabelEncoder()\n",
    "all_labels = le.fit_transform(all_labels)\n",
    "all_labels = to_categorical(all_labels)\n",
    "\n",
    "all_images = np.array(all_images) / 255\n",
    "\n",
    "x_train, x_test, y_train, y_test = train_test_split(all_images, all_labels, train_size=0.8, random_state=42)\n",
    "```\n",
    "\n",
    "## Define the CNN Model\n",
    "\n",
    "The CNN model is defined using the Sequential API from TensorFlow. It consists of several convolutional layers, batch normalization layers, a flatten layer, and dense layers. The output layer uses the softmax activation function for multi-class classification.\n",
    "\n",
    "```python\n",
    "net = models.Sequential([\n",
    "    layers.Conv2D(32, (3, 3), activation='relu', padding='same', input_shape=(32, 32, 3)),\n",
    "    layers.BatchNormalization(),\n",
    "    layers.Conv2D(32, (3, 3), activation='relu', padding='same'),\n",
    "    layers.BatchNormalization(),\n",
    "    layers.Conv2D(64, (3, 3), activation='relu', padding='same'),\n",
    "    layers.BatchNormalization(),\n",
    "    layers.Conv2D(64, (3, 3), activation='relu', padding='same'),\n",
    "    layers.BatchNormalization(),\n",
    "    layers.Flatten(),\n",
    "    layers.Dense(256, activation='relu'),\n",
    "    layers.Dense(2, activation='softmax')\n",
    "])\n",
    "```\n",
    "\n",
    "## Compile the Model\n",
    "\n",
    "The model is compiled with the ADAM optimizer, categorical cross-entropy loss function, and accuracy metric.\n",
    "\n",
    "```python\n",
    "net.compile(optimizer='ADAM', metrics='accuracy', loss='categorical_crossentropy')\n",
    "```\n",
    "\n",
    "## Train the Model\n",
    "\n",
    "The model is trained on the training data for 10 epochs using a batch size of 16. The validation data is also provided for evaluation during training.\n",
    "\n",
    "```python\n",
    "H = net.fit(x_train, y_train, validation_data=(x_test, y_test), batch_size=16, epochs=10)\n",
    "```\n",
    "\n",
    "## Evaluate the Model\n",
    "\n",
    "The model's performance is evaluated by plotting the training and validation accuracy and loss over the epochs.\n",
    "\n",
    "```python\n",
    "import matplotlib.pyplot as plt\n",
    "\n",
    "plt.style.use('ggplot')\n",
    "plt.plot(H.history['accuracy'], label='train_accuracy')\n",
    "plt.plot(H.history['val_accuracy'], label='val_accuracy')\n",
    "plt.plot(H.history['loss'], label='train_loss')\n",
    "plt.plot(H.history['val_loss'], label='val_loss')\n",
    "plt.xlabel('epochs')\n",
    "plt.ylabel('')\n",
    "plt.title('Classification')\n",
    "plt.legend(loc='upper left')\n",
    "plt.show()\n",
    "```\n",
    "\n",
    "## Save the Model\n",
    "\n",
    "The trained model is saved to a file named 'smile_net.h5' for future use.\n",
    "\n",
    "```python\n",
    "net.save('smile_net.h5')\n",
    "```"
   ]
  },
  {
   "cell_type": "code",
   "execution_count": 1,
   "metadata": {},
   "outputs": [],
   "source": [
    "import numpy as np\n",
    "import cv2 \n",
    "from tensorflow.keras import layers , models\n",
    "import glob \n",
    "all_images = []\n",
    "all_labels = []"
   ]
  },
  {
   "cell_type": "code",
   "execution_count": null,
   "metadata": {},
   "outputs": [
    {
     "name": "stdout",
     "output_type": "stream",
     "text": [
      "INFO:0 images has been loaded\n",
      "INFO:1000 images has been loaded\n",
      "INFO:2000 images has been loaded\n",
      "INFO:3000 images has been loaded\n"
     ]
    }
   ],
   "source": [
    "for i,item in enumerate(glob.glob('faces\\*\\*')):\n",
    "    img=cv2.imread(item)\n",
    "    img=cv2.resize(img,(32,32))\n",
    "    all_images.append(img)\n",
    "    all_labels.append(item.split('\\\\')[-2])\n",
    "    if i%1000==0:\n",
    "        print('INFO:{} images has been loaded'.format(i))\n",
    "\n",
    "    "
   ]
  },
  {
   "cell_type": "code",
   "execution_count": 4,
   "metadata": {},
   "outputs": [],
   "source": [
    "\n",
    "from sklearn.model_selection import train_test_split\n",
    "from tensorflow.keras.utils import to_categorical\n",
    "from sklearn.preprocessing import LabelEncoder\n",
    "\n",
    "le=LabelEncoder()\n",
    "all_labels=le.fit_transform(all_labels)\n",
    "all_labels=to_categorical(all_labels)\n",
    "\n",
    "all_images=np.array(all_images)/255\n",
    "\n",
    "x_train,x_test,y_train,y_test = train_test_split(all_images,all_labels,train_size=0.8,random_state=42)\n",
    "\n",
    "\n"
   ]
  },
  {
   "cell_type": "code",
   "execution_count": 5,
   "metadata": {},
   "outputs": [],
   "source": [
    "net=models.Sequential([\n",
    "    layers.Conv2D(32,(3,3),activation='relu',padding='same',input_shape=(32,32,3)),\n",
    "    layers.BatchNormalization(),\n",
    "    layers.Conv2D(32,(3,3),activation='relu',padding='same'),\n",
    "    layers.BatchNormalization(),\n",
    "    layers.Conv2D(64,(3,3),activation='relu',padding='same'),\n",
    "    layers.BatchNormalization(),\n",
    "    layers.Conv2D(64,(3,3),activation='relu',padding='same'),\n",
    "    layers.BatchNormalization(), \n",
    "    layers.Flatten(),\n",
    "    layers.Dense(256,activation='relu'),\n",
    "    layers.Dense(2,activation='softmax')   \n",
    "\n",
    "])"
   ]
  },
  {
   "cell_type": "code",
   "execution_count": 7,
   "metadata": {},
   "outputs": [],
   "source": [
    "net.compile(optimizer='ADAM',metrics='accuracy',loss='categorical_crossentropy')"
   ]
  },
  {
   "cell_type": "code",
   "execution_count": 9,
   "metadata": {},
   "outputs": [
    {
     "name": "stdout",
     "output_type": "stream",
     "text": [
      "Epoch 1/10\n",
      "200/200 [==============================] - 36s 176ms/step - loss: 1.3052 - accuracy: 0.7534 - val_loss: 7.7921 - val_accuracy: 0.5388\n",
      "Epoch 2/10\n",
      "200/200 [==============================] - 32s 160ms/step - loss: 0.2590 - accuracy: 0.8944 - val_loss: 0.9559 - val_accuracy: 0.7619\n",
      "Epoch 3/10\n",
      "200/200 [==============================] - 33s 164ms/step - loss: 0.1917 - accuracy: 0.9220 - val_loss: 0.3001 - val_accuracy: 0.8734\n",
      "Epoch 4/10\n",
      "200/200 [==============================] - 31s 156ms/step - loss: 0.1244 - accuracy: 0.9505 - val_loss: 0.3381 - val_accuracy: 0.8759\n",
      "Epoch 5/10\n",
      "200/200 [==============================] - 33s 164ms/step - loss: 0.0910 - accuracy: 0.9665 - val_loss: 0.3319 - val_accuracy: 0.8759\n",
      "Epoch 6/10\n",
      "200/200 [==============================] - 34s 170ms/step - loss: 0.0816 - accuracy: 0.9706 - val_loss: 0.3894 - val_accuracy: 0.8797\n",
      "Epoch 7/10\n",
      "200/200 [==============================] - 32s 158ms/step - loss: 0.0958 - accuracy: 0.9668 - val_loss: 1.0201 - val_accuracy: 0.7469\n",
      "Epoch 8/10\n",
      "200/200 [==============================] - 31s 157ms/step - loss: 0.0829 - accuracy: 0.9668 - val_loss: 0.2651 - val_accuracy: 0.9098\n",
      "Epoch 9/10\n",
      "200/200 [==============================] - 36s 180ms/step - loss: 0.0484 - accuracy: 0.9815 - val_loss: 0.5539 - val_accuracy: 0.8333\n",
      "Epoch 10/10\n",
      "200/200 [==============================] - 33s 167ms/step - loss: 0.0720 - accuracy: 0.9706 - val_loss: 0.3522 - val_accuracy: 0.8897\n"
     ]
    }
   ],
   "source": [
    "H=net.fit(x_train,y_train,validation_data=(x_test,y_test),batch_size=16,epochs=10)"
   ]
  },
  {
   "cell_type": "code",
   "execution_count": 11,
   "metadata": {},
   "outputs": [
    {
     "data": {
      "image/png": "[encoded data removed]",
      "text/plain": [
       "<Figure size 432x288 with 1 Axes>"
      ]
     },
     "metadata": {},
     "output_type": "display_data"
    }
   ],
   "source": [
    "import matplotlib.pyplot as plt \n",
    "plt.style.use('ggplot')\n",
    "plt.plot(H.history['accuracy'],label='train_accuracy')\n",
    "plt.plot(H.history['val_accuracy'],label='val_accuracy')\n",
    "plt.plot(H.history['loss'],label='train_loss')\n",
    "plt.plot(H.history['val_loss'],label='val_accuracy')\n",
    "plt.xlabel('epochs')\n",
    "plt.ylabel('sss')\n",
    "plt.title('classfication')\n",
    "plt.legend(loc='upper left')\n",
    "plt.show()\n",
    "\n",
    "\n",
    "net.save('smile_net.h5')"
   ]
  },
  {
   "cell_type": "code",
   "execution_count": null,
   "metadata": {},
   "outputs": [],
   "source": []
  }
 ],
 "metadata": {
  "interpreter": {
   "hash": "7b4b38f84c893d4679228e7d3ce472830242e3f4b95a448debba7d0e68d7549a"
  },
  "kernelspec": {
   "display_name": "Python 3.8.8 ('base')",
   "language": "python",
   "name": "python3"
  },
  "language_info": {
   "codemirror_mode": {
    "name": "ipython",
    "version": 3
   },
   "file_extension": ".py",
   "mimetype": "text/x-python",
   "name": "python",
   "nbconvert_exporter": "python",
   "pygments_lexer": "ipython3",
   "version": "3.9.19"
  },
  "orig_nbformat": 4
 },
 "nbformat": 4,
 "nbformat_minor": 2
}
