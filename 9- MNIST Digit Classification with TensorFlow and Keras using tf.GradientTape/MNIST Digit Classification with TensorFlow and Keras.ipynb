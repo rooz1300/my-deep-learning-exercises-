{
 "cells": [
  {
   "cell_type": "markdown",
   "metadata": {},
   "source": [
    "# MNIST Digit Classification with TensorFlow and Keras using tf.GradientTape\n",
    "\n",
    "This Jupyter notebook demonstrates the process of training a convolutional neural network (CNN) to classify handwritten digits from the MNIST dataset using TensorFlow and Keras. The notebook is structured as follows:\n",
    "\n",
    "1. **Importing Libraries**: The necessary libraries are imported, including TensorFlow, Matplotlib, NumPy, and Keras.\n",
    "\n",
    "2. **Data Preprocessing**: The MNIST dataset is loaded and preprocessed. The images are reshaped, normalized, and the labels are converted to categorical format.\n",
    "\n",
    "3. **Model Definition**: A CNN model is defined using the Sequential API of Keras. The model consists of two convolutional layers, each followed by a max pooling layer, a flatten layer, a dense layer, a dropout layer, and an output dense layer.\n",
    "\n",
    "4. **Model Compilation**: The model is compiled with the Adam optimizer and categorical cross-entropy loss function.\n",
    "\n",
    "5. **Training the Model**: The model is trained for a specified number of epochs. For each epoch, the model is trained on batches of the training data, and the loss and accuracy are calculated for each batch and epoch.\n",
    "\n",
    "6. **Evaluation**: The trained model is evaluated on the test data, and the accuracy is printed.\n",
    "\n",
    "7. **Visualization**: The training loss is plotted against the epochs.\n",
    "\n",
    "The following sections provide more detailed explanations of each part of the code.\n",
    "\n",
    "## 1. Importing Libraries\n",
    "\n",
    "```python\n",
    "import os\n",
    "import tensorflow as tf\n",
    "import matplotlib.pyplot as plt\n",
    "import numpy as np\n",
    "from keras.utils import to_categorical\n",
    "from keras.optimizers import Adam\n",
    "from keras.losses import categorical_crossentropy\n",
    "from tqdm import trange\n",
    "import time\n",
    "\n",
    "os.environ['TF_CPP_MIN_LOG_LEVEL'] = '3'\n",
    "```\n",
    "\n",
    "The necessary libraries are imported, and the TensorFlow logging level is set to suppress warnings and information messages.\n",
    "\n",
    "## 2. Data Preprocessing\n",
    "\n",
    "```python\n",
    "mnist = tf.keras.datasets.mnist\n",
    "(x_train, y_train), (x_test, y_test) = mnist.load_data()\n",
    "\n",
    "x_train = x_train.reshape(-1, 28, 28, 1).astype('float32')\n",
    "x_test = x_test.reshape(-1, 28, 28, 1).astype('float32')\n",
    "\n",
    "print(\"x_train shape:\", x_train.shape)\n",
    "print(\"x_test shape:\", x_test.shape)\n",
    "print(\"y_train shape:\", y_train.shape)\n",
    "print(\"y_test shape:\", y_test.shape)\n",
    "\n",
    "y_train = to_categorical(y_train, 10)\n",
    "y_test = to_categorical(y_test, 10)\n",
    "\n",
    "# Normalization\n",
    "x_train_mean = np.mean(x_train, axis=0)\n",
    "x_train_std = np.std(x_train, axis=0)\n",
    "x_train_std[x_train_std == 0] = 1  # Prevent division by zero\n",
    "x_train = (x_train - x_train_mean) / x_train_std\n",
    "\n",
    "x_test_mean = np.mean(x_test, axis=0)\n",
    "x_test_std = np.std(x_test, axis=0)\n",
    "x_test_std[x_test_std == 0] = 1  # Prevent division by zero\n",
    "x_test = (x_test - x_test_mean) / x_test_std\n",
    "```\n",
    "\n",
    "The MNIST dataset is loaded, and the images are reshaped to have a single channel (grayscale) and are converted to float32 data type. The labels are then converted to categorical format. The images are normalized by subtracting the mean and dividing by the standard deviation.\n",
    "\n",
    "## 3. Model Definition\n",
    "\n",
    "```python\n",
    "model = tf.keras.models.Sequential([\n",
    "    tf.keras.layers.Conv2D(32, (3, 3), activation='relu', input_shape=(28, 28, 1), padding='same'),\n",
    "    tf.keras.layers.MaxPooling2D((2, 2)),\n",
    "    tf.keras.layers.Conv2D(64, (3, 3), activation='relu', padding='same'),\n",
    "    tf.keras.layers.MaxPooling2D((2, 2)),\n",
    "    tf.keras.layers.Flatten(),\n",
    "    tf.keras.layers.Dense(128, activation='relu'),\n",
    "    tf.keras.layers.Dropout(0.5),\n",
    "    tf.keras.layers.Dense(10, activation='softmax')\n",
    "])\n",
    "```\n",
    "\n",
    "A CNN model is defined using the Sequential API of Keras. The model consists of two convolutional layers, each followed by a max pooling layer, a flatten layer, a dense layer, a dropout layer, and an output dense layer.\n",
    "\n",
    "## 4. Model Compilation\n",
    "\n",
    "```python\n",
    "optimizer = Adam(learning_rate=0.01, decay=0.01 / 2)\n",
    "model.compile(optimizer=optimizer, loss=\"categorical_crossentropy\", metrics=[\"accuracy\"])\n",
    "```\n",
    "\n",
    "The model is compiled with the Adam optimizer and categorical cross-entropy loss function.\n",
    "\n",
    "## 5. Training the Model\n",
    "\n",
    "```python\n",
    "epochs = 2\n",
    "batch_size = 128\n",
    "bat_per_epoch = int(np.ceil(len(x_train) / batch_size))\n",
    "\n",
    "losses = []\n",
    "accuracies = []\n",
    "\n",
    "for epoch in trange(epochs):\n",
    "    epoch_start_time = time.time()\n",
    "    epoch_losses = []\n",
    "    for i in range(bat_per_epoch):\n",
    "        start = i * batch_size\n",
    "        end = start + batch_size\n",
    "        loss = step_one_epoch(x_train[start:end], y_train[start:end])\n",
    "        epoch_losses.append(loss)\n",
    "\n",
    "    y_pred = model.predict(x_test)\n",
    "    correct_predictions = np.equal(np.argmax(y_pred, axis=1), np.argmax(y_test, axis=1))\n",
    "    accuracy = np.mean(correct_predictions)\n",
    "    accuracies.append(accuracy)\n",
    "\n",
    "    end_time = time.time()\n",
    "    d_time = (end_time - epoch_start_time) / 60.0\n",
    "\n",
    "    out_loss = np.mean(epoch_losses)\n",
    "    losses.append(out_loss)\n",
    "    print(f\"epoch: {epoch+1}, took: {d_time:.2f} minutes, loss: {out_loss:.2f}\")\n",
    "```\n",
    "\n",
    "The model is trained for a specified number of epochs. For each epoch, the model is trained on batches of the training data, and the loss and accuracy are calculated for each batch and epoch.\n",
    "\n",
    "## 6. Evaluation\n",
    "\n",
    "```python\n",
    "print(\"accuracy:\", model.evaluate(x_test, y_test, verbose=0)[1])\n",
    "```\n",
    "\n",
    "The trained model is evaluated on the test data, and the accuracy is printed.\n",
    "\n",
    "## 7. Visualization\n",
    "\n",
    "```python\n",
    "plt.plot(range(epochs), losses, label=\"train loss\")\n",
    "plt.legend()\n",
    "plt.xlabel(\"epoch\")\n",
    "plt.ylabel(\"loss\")\n",
    "plt.show()\n",
    "```\n",
    "\n",
    "The training loss is plotted against the epochs."
   ]
  },
  {
   "cell_type": "code",
   "execution_count": 1,
   "metadata": {},
   "outputs": [
    {
     "name": "stdout",
     "output_type": "stream",
     "text": [
      "x_train shape: (60000, 28, 28, 1)\n",
      "x_test shape: (10000, 28, 28, 1)\n",
      "y_train shape: (60000,)\n",
      "y_test shape: (10000,)\n"
     ]
    },
    {
     "name": "stderr",
     "output_type": "stream",
     "text": [
      "  0%|          | 0/15 [00:00<?, ?it/s]"
     ]
    },
    {
     "name": "stdout",
     "output_type": "stream",
     "text": [
      "313/313 [==============================] - 1s 4ms/step\n"
     ]
    },
    {
     "name": "stderr",
     "output_type": "stream",
     "text": [
      "  7%|▋         | 1/15 [00:16<03:44, 16.04s/it]"
     ]
    },
    {
     "name": "stdout",
     "output_type": "stream",
     "text": [
      "epoch: 1, took: 0.27 minutes, loss: 0.27\n",
      "313/313 [==============================] - 1s 2ms/step\n"
     ]
    },
    {
     "name": "stderr",
     "output_type": "stream",
     "text": [
      " 13%|█▎        | 2/15 [00:25<02:41, 12.41s/it]"
     ]
    },
    {
     "name": "stdout",
     "output_type": "stream",
     "text": [
      "epoch: 2, took: 0.16 minutes, loss: 0.08\n",
      "313/313 [==============================] - 1s 3ms/step\n"
     ]
    },
    {
     "name": "stderr",
     "output_type": "stream",
     "text": [
      " 20%|██        | 3/15 [00:36<02:17, 11.48s/it]"
     ]
    },
    {
     "name": "stdout",
     "output_type": "stream",
     "text": [
      "epoch: 3, took: 0.17 minutes, loss: 0.06\n",
      "313/313 [==============================] - 1s 4ms/step\n"
     ]
    },
    {
     "name": "stderr",
     "output_type": "stream",
     "text": [
      " 27%|██▋       | 4/15 [00:47<02:05, 11.38s/it]"
     ]
    },
    {
     "name": "stdout",
     "output_type": "stream",
     "text": [
      "epoch: 4, took: 0.19 minutes, loss: 0.05\n",
      "313/313 [==============================] - 1s 3ms/step\n"
     ]
    },
    {
     "name": "stderr",
     "output_type": "stream",
     "text": [
      " 33%|███▎      | 5/15 [00:58<01:52, 11.27s/it]"
     ]
    },
    {
     "name": "stdout",
     "output_type": "stream",
     "text": [
      "epoch: 5, took: 0.18 minutes, loss: 0.04\n",
      "313/313 [==============================] - 1s 3ms/step\n"
     ]
    },
    {
     "name": "stderr",
     "output_type": "stream",
     "text": [
      " 40%|████      | 6/15 [01:10<01:42, 11.36s/it]"
     ]
    },
    {
     "name": "stdout",
     "output_type": "stream",
     "text": [
      "epoch: 6, took: 0.19 minutes, loss: 0.04\n",
      "313/313 [==============================] - 1s 4ms/step\n"
     ]
    },
    {
     "name": "stderr",
     "output_type": "stream",
     "text": [
      " 47%|████▋     | 7/15 [01:20<01:29, 11.18s/it]"
     ]
    },
    {
     "name": "stdout",
     "output_type": "stream",
     "text": [
      "epoch: 7, took: 0.18 minutes, loss: 0.04\n",
      "313/313 [==============================] - 1s 4ms/step\n"
     ]
    },
    {
     "name": "stderr",
     "output_type": "stream",
     "text": [
      " 53%|█████▎    | 8/15 [01:32<01:18, 11.19s/it]"
     ]
    },
    {
     "name": "stdout",
     "output_type": "stream",
     "text": [
      "epoch: 8, took: 0.19 minutes, loss: 0.03\n",
      "313/313 [==============================] - 1s 4ms/step\n",
      "epoch: 9, took: 0.18 minutes, loss: 0.03\n"
     ]
    },
    {
     "name": "stderr",
     "output_type": "stream",
     "text": [
      " 60%|██████    | 9/15 [01:42<01:06, 11.02s/it]"
     ]
    },
    {
     "name": "stdout",
     "output_type": "stream",
     "text": [
      "313/313 [==============================] - 1s 3ms/step\n"
     ]
    },
    {
     "name": "stderr",
     "output_type": "stream",
     "text": [
      " 67%|██████▋   | 10/15 [01:53<00:54, 10.91s/it]"
     ]
    },
    {
     "name": "stdout",
     "output_type": "stream",
     "text": [
      "epoch: 10, took: 0.18 minutes, loss: 0.03\n",
      "313/313 [==============================] - 1s 4ms/step\n"
     ]
    },
    {
     "name": "stderr",
     "output_type": "stream",
     "text": [
      " 73%|███████▎  | 11/15 [02:04<00:43, 10.90s/it]"
     ]
    },
    {
     "name": "stdout",
     "output_type": "stream",
     "text": [
      "epoch: 11, took: 0.18 minutes, loss: 0.03\n",
      "313/313 [==============================] - 1s 4ms/step\n"
     ]
    },
    {
     "name": "stderr",
     "output_type": "stream",
     "text": [
      " 80%|████████  | 12/15 [02:16<00:34, 11.35s/it]"
     ]
    },
    {
     "name": "stdout",
     "output_type": "stream",
     "text": [
      "epoch: 12, took: 0.21 minutes, loss: 0.03\n",
      "313/313 [==============================] - 1s 4ms/step\n"
     ]
    },
    {
     "name": "stderr",
     "output_type": "stream",
     "text": [
      " 87%|████████▋ | 13/15 [02:29<00:23, 11.70s/it]"
     ]
    },
    {
     "name": "stdout",
     "output_type": "stream",
     "text": [
      "epoch: 13, took: 0.21 minutes, loss: 0.02\n",
      "313/313 [==============================] - 1s 4ms/step\n"
     ]
    },
    {
     "name": "stderr",
     "output_type": "stream",
     "text": [
      " 93%|█████████▎| 14/15 [02:41<00:11, 11.93s/it]"
     ]
    },
    {
     "name": "stdout",
     "output_type": "stream",
     "text": [
      "epoch: 14, took: 0.21 minutes, loss: 0.02\n",
      "313/313 [==============================] - 1s 4ms/step\n"
     ]
    },
    {
     "name": "stderr",
     "output_type": "stream",
     "text": [
      "100%|██████████| 15/15 [02:54<00:00, 11.61s/it]"
     ]
    },
    {
     "name": "stdout",
     "output_type": "stream",
     "text": [
      "epoch: 15, took: 0.21 minutes, loss: 0.02\n"
     ]
    },
    {
     "name": "stderr",
     "output_type": "stream",
     "text": [
      "\n"
     ]
    },
    {
     "name": "stdout",
     "output_type": "stream",
     "text": [
      "accuracy: 0.9886000156402588\n"
     ]
    },
    {
     "data": {
      "image/png": "[encoded data removed]",
      "text/plain": [
       "<Figure size 640x480 with 1 Axes>"
      ]
     },
     "metadata": {},
     "output_type": "display_data"
    }
   ],
   "source": [
    "import os\n",
    "import tensorflow as tf\n",
    "import matplotlib.pyplot as plt\n",
    "import numpy as np\n",
    "from keras.utils import to_categorical\n",
    "from keras.optimizers import Adam\n",
    "from keras.losses import categorical_crossentropy\n",
    "from tqdm import trange\n",
    "import time\n",
    "\n",
    "os.environ['TF_CPP_MIN_LOG_LEVEL'] = '3'\n",
    "\n",
    "def step_one_epoch(x_batch, y_batch):\n",
    "    with tf.GradientTape() as tape:\n",
    "        y_prime = model(x_batch, training=True)\n",
    "        model_loss = categorical_crossentropy(y_batch, y_prime)\n",
    "        model_loss = tf.reduce_mean(model_loss)\n",
    "\n",
    "    model_gradient = tape.gradient(model_loss, model.trainable_variables)\n",
    "    optimizer.apply_gradients(zip(model_gradient, model.trainable_variables))\n",
    "\n",
    "    return model_loss.numpy()\n",
    "\n",
    "mnist = tf.keras.datasets.mnist\n",
    "(x_train, y_train), (x_test, y_test) = mnist.load_data()\n",
    "\n",
    "x_train = x_train.reshape(-1, 28, 28, 1).astype('float32')\n",
    "x_test = x_test.reshape(-1, 28, 28, 1).astype('float32')\n",
    "\n",
    "print(\"x_train shape:\", x_train.shape)\n",
    "print(\"x_test shape:\", x_test.shape)\n",
    "print(\"y_train shape:\", y_train.shape)\n",
    "print(\"y_test shape:\", y_test.shape)\n",
    "\n",
    "y_train = to_categorical(y_train, 10)\n",
    "y_test = to_categorical(y_test, 10)\n",
    "\n",
    "# Normalization\n",
    "x_train_mean = np.mean(x_train, axis=0)\n",
    "x_train_std = np.std(x_train, axis=0)\n",
    "x_train_std[x_train_std == 0] = 1  # Prevent division by zero\n",
    "x_train = (x_train - x_train_mean) / x_train_std\n",
    "\n",
    "x_test_mean = np.mean(x_test, axis=0)\n",
    "x_test_std = np.std(x_test, axis=0)\n",
    "x_test_std[x_test_std == 0] = 1  # Prevent division by zero\n",
    "x_test = (x_test - x_test_mean) / x_test_std\n",
    "\n",
    "model = tf.keras.models.Sequential([\n",
    "    tf.keras.layers.Conv2D(32, (3, 3), activation='relu', input_shape=(28, 28, 1), padding='same'),\n",
    "    tf.keras.layers.MaxPooling2D((2, 2)),\n",
    "    tf.keras.layers.Conv2D(64, (3, 3), activation='relu', padding='same'),\n",
    "    tf.keras.layers.MaxPooling2D((2, 2)),\n",
    "    tf.keras.layers.Flatten(),\n",
    "    tf.keras.layers.Dense(128, activation='relu'),\n",
    "    tf.keras.layers.Dropout(0.5),\n",
    "    tf.keras.layers.Dense(10, activation='softmax')\n",
    "])\n",
    "\n",
    "optimizer = Adam(learning_rate=0.01, decay=0.01 / 2)\n",
    "model.compile(optimizer=optimizer, loss=\"categorical_crossentropy\", metrics=[\"accuracy\"])\n",
    "\n",
    "epochs = 15\n",
    "batch_size = 128\n",
    "bat_per_epoch = int(np.ceil(len(x_train) / batch_size))\n",
    "\n",
    "losses = []\n",
    "accuracies = []\n",
    "\n",
    "for epoch in trange(epochs):\n",
    "    epoch_start_time = time.time()\n",
    "    epoch_losses = []\n",
    "    for i in range(bat_per_epoch):\n",
    "        start = i * batch_size\n",
    "        end = start + batch_size\n",
    "        loss = step_one_epoch(x_train[start:end], y_train[start:end])\n",
    "        epoch_losses.append(loss)\n",
    "\n",
    "    y_pred = model.predict(x_test)\n",
    "    correct_predictions = np.equal(np.argmax(y_pred, axis=1), np.argmax(y_test, axis=1))\n",
    "    accuracy = np.mean(correct_predictions)\n",
    "    accuracies.append(accuracy)\n",
    "\n",
    "    end_time = time.time()\n",
    "    d_time = (end_time - epoch_start_time) / 60.0\n",
    "\n",
    "    out_loss = np.mean(epoch_losses)\n",
    "    losses.append(out_loss)\n",
    "    print(f\"epoch: {epoch+1}, took: {d_time:.2f} minutes, loss: {out_loss:.2f}\")\n",
    "\n",
    "print(\"accuracy:\", model.evaluate(x_test, y_test, verbose=0)[1])\n",
    "\n",
    "plt.plot(range(epochs), losses, label=\"train loss\")\n",
    "plt.legend()\n",
    "plt.xlabel(\"epoch\")\n",
    "plt.ylabel(\"loss\")\n",
    "plt.show()\n"
   ]
  },
  {
   "cell_type": "code",
   "execution_count": null,
   "metadata": {},
   "outputs": [],
   "source": []
  }
 ],
 "metadata": {
  "kernelspec": {
   "display_name": "pytf3.9",
   "language": "python",
   "name": "python3"
  },
  "language_info": {
   "codemirror_mode": {
    "name": "ipython",
    "version": 3
   },
   "file_extension": ".py",
   "mimetype": "text/x-python",
   "name": "python",
   "nbconvert_exporter": "python",
   "pygments_lexer": "ipython3",
   "version": "3.9.19"
  }
 },
 "nbformat": 4,
 "nbformat_minor": 2
}
