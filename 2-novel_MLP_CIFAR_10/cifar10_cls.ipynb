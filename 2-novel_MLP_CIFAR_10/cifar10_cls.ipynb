{
 "cells": [
  {
   "cell_type": "markdown",
   "metadata": {},
   "source": [
    "# CIFAR-10 Image Classification\n",
    "\n",
    "This Jupyter notebook demonstrates the process of building and training a neural network for image classification using the CIFAR-10 dataset. The dataset consists of 60,000 32x32 color images in 10 classes, with 6,000 images per class. There are 50,000 training images and 10,000 test images.\n",
    "\n",
    "## Table of Contents\n",
    "1. [Imports and Setup](#imports-and-setup)\n",
    "2. [Data Loading and Preprocessing](#data-loading-and-preprocessing)\n",
    "3. [Model Building and Training](#model-building-and-training)\n",
    "4. [Results Visualization](#results-visualization)\n",
    "\n",
    "## Imports and Setup\n",
    "\n",
    "We start by importing the necessary libraries and modules.\n",
    "\n",
    "```python\n",
    "import os\n",
    "import tensorflow as tf\n",
    "os.environ['TF_CPP_MIN_LOG_LEVEL']='3'\n",
    "from tensorflow.keras import models, layers\n",
    "from tensorflow.keras.datasets import cifar10\n",
    "```\n",
    "\n",
    "We also suppress TensorFlow's verbose logging messages.\n",
    "\n",
    "## Data Loading and Preprocessing\n",
    "\n",
    "The CIFAR-10 dataset is loaded using TensorFlow's built-in function. The data is then normalized by dividing the pixel values by 255 to scale them between 0 and 1.\n",
    "\n",
    "```python\n",
    "(x_train,y_train),(x_test,y_test) = cifar10.load_data()\n",
    "x_train,x_test =x_train/255, x_test/255\n",
    "```\n",
    "\n",
    "## Model Building and Training\n",
    "\n",
    "We create a simple neural network using TensorFlow's Sequential API. The network consists of a flattening layer, followed by three dense layers with ReLU activation functions. The output layer uses a softmax activation function for multi-class classification.\n",
    "\n",
    "```python\n",
    "net = models.Sequential([\n",
    "                       layers.Flatten(),\n",
    "                       layers.Dense(400,activation=\"relu\"),\n",
    "                       layers.Dense(200,activation=\"relu\"),\n",
    "                       layers.Dense(80,activation=\"relu\"),\n",
    "                       layers.Dense(10,activation=\"softmax\")\n",
    "])\n",
    "```\n",
    "\n",
    "We compile the model using the SGD optimizer and sparse categorical cross-entropy loss function, which is suitable for multi-class classification without one-hot encoding.\n",
    "\n",
    "```python\n",
    "net.compile(optimizer=\"SGD\",metrics=[\"accuracy\"],\n",
    "            loss='sparse_categorical_crossentropy')\n",
    "```\n",
    "\n",
    "The model is then trained for 15 epochs using a batch size of 16.\n",
    "\n",
    "```python\n",
    "H_net=net.fit(x_train,y_train,batch_size=16,epochs=15,validation_data=[x_test,y_test])\n",
    "```\n",
    "\n",
    "We also experiment with the Adam optimizer and a learning rate of 0.01.\n",
    "\n",
    "```python\n",
    "opt=tf.keras.optimizers.Adam(learning_rate=0.01)\n",
    "net.compile(optimizer=opt,metrics=[\"accuracy\"],\n",
    "            loss='sparse_categorical_crossentropy')\n",
    "H_net=net.fit(x_train,y_train,batch_size=32,epochs=15,validation_data=[x_test,y_test])\n",
    "```\n",
    "\n",
    "## Results Visualization\n",
    "\n",
    "Finally, we visualize the training and validation accuracy and loss using Matplotlib.\n",
    "\n",
    "```python\n",
    "import matplotlib.pyplot as plt\n",
    "plt.style.use('ggplot')\n",
    "plt.plot(H_net.history['accuracy'],label='train_accuracy')\n",
    "plt.plot(H_net.history['val_accuracy'],label='val_accuracy')\n",
    "plt.plot(H_net.history['loss'],label='train_loss')\n",
    "plt.plot(H_net.history['val_loss'],label='val_loss')\n",
    "plt.xlabel('epochs')\n",
    "plt.ylabel('sss')\n",
    "plt.title('classfication')\n",
    "plt.show()\n",
    "```\n",
    "\n",
    "The resulting plot allows us to analyze the model's performance and identify any potential issues, such as overfitting or underfitting."
   ]
  },
  {
   "cell_type": "code",
   "execution_count": 1,
   "metadata": {},
   "outputs": [
    {
     "name": "stdout",
     "output_type": "stream",
     "text": [
      "Downloading data from https://www.cs.toronto.edu/~kriz/cifar-10-python.tar.gz\n",
      "170498071/170498071 [==============================] - 161s 1us/step\n"
     ]
    }
   ],
   "source": [
    "import os \n",
    "import tensorflow as tf\n",
    "os.environ['TF_CPP_MIN_LOG_LEVEL']='3'\n",
    "from tensorflow.keras import models, layers\n",
    "from tensorflow.keras.datasets import cifar10\n",
    "(x_train,y_train),(x_test,y_test) = cifar10.load_data()"
   ]
  },
  {
   "cell_type": "code",
   "execution_count": 4,
   "metadata": {},
   "outputs": [
    {
     "name": "stdout",
     "output_type": "stream",
     "text": [
      "Num GPUs: 1\n"
     ]
    },
    {
     "data": {
      "text/plain": [
       "[name: \"/device:CPU:0\"\n",
       " device_type: \"CPU\"\n",
       " memory_limit: 268435456\n",
       " locality {\n",
       " }\n",
       " incarnation: 6916277330295358375\n",
       " xla_global_id: -1,\n",
       " name: \"/device:GPU:0\"\n",
       " device_type: \"GPU\"\n",
       " memory_limit: 3667263488\n",
       " locality {\n",
       "   bus_id: 1\n",
       "   links {\n",
       "   }\n",
       " }\n",
       " incarnation: 13314109576685177308\n",
       " physical_device_desc: \"device: 0, name: GeForce RTX 3060 Laptop GPU, pci bus id: 0000:01:00.0, compute capability: 8.6\"\n",
       " xla_global_id: 416903419]"
      ]
     },
     "execution_count": 4,
     "metadata": {},
     "output_type": "execute_result"
    }
   ],
   "source": [
    "physical_devices = tf.config.list_physical_devices('GPU')\n",
    "print(\"Num GPUs:\", len(physical_devices))\n",
    "from tensorflow.python.client import device_lib\n",
    "device_lib.list_local_devices()"
   ]
  },
  {
   "cell_type": "code",
   "execution_count": 3,
   "metadata": {},
   "outputs": [
    {
     "name": "stdout",
     "output_type": "stream",
     "text": [
      "Epoch 1/15\n",
      "3125/3125 [==============================] - 7s 2ms/step - loss: 1.8369 - accuracy: 0.3368 - val_loss: 1.7045 - val_accuracy: 0.3935\n",
      "Epoch 2/15\n",
      "3125/3125 [==============================] - 5s 2ms/step - loss: 1.6460 - accuracy: 0.4113 - val_loss: 1.6092 - val_accuracy: 0.4328\n",
      "Epoch 3/15\n",
      "3125/3125 [==============================] - 5s 2ms/step - loss: 1.5641 - accuracy: 0.4403 - val_loss: 1.5257 - val_accuracy: 0.4555\n",
      "Epoch 4/15\n",
      "3125/3125 [==============================] - 5s 2ms/step - loss: 1.5039 - accuracy: 0.4629 - val_loss: 1.4873 - val_accuracy: 0.4720\n",
      "Epoch 5/15\n",
      "3125/3125 [==============================] - 5s 2ms/step - loss: 1.4579 - accuracy: 0.4768 - val_loss: 1.4535 - val_accuracy: 0.4841\n",
      "Epoch 6/15\n",
      "3125/3125 [==============================] - 5s 2ms/step - loss: 1.4179 - accuracy: 0.4937 - val_loss: 1.4287 - val_accuracy: 0.4872\n",
      "Epoch 7/15\n",
      "3125/3125 [==============================] - 5s 2ms/step - loss: 1.3807 - accuracy: 0.5080 - val_loss: 1.4282 - val_accuracy: 0.4908\n",
      "Epoch 8/15\n",
      "3125/3125 [==============================] - 5s 2ms/step - loss: 1.3516 - accuracy: 0.5178 - val_loss: 1.3816 - val_accuracy: 0.5043\n",
      "Epoch 9/15\n",
      "3125/3125 [==============================] - 5s 2ms/step - loss: 1.3192 - accuracy: 0.5292 - val_loss: 1.4428 - val_accuracy: 0.4963\n",
      "Epoch 10/15\n",
      "3125/3125 [==============================] - 5s 2ms/step - loss: 1.2943 - accuracy: 0.5381 - val_loss: 1.3671 - val_accuracy: 0.5159\n",
      "Epoch 11/15\n",
      "3125/3125 [==============================] - 5s 2ms/step - loss: 1.2675 - accuracy: 0.5489 - val_loss: 1.3892 - val_accuracy: 0.5026\n",
      "Epoch 12/15\n",
      "3125/3125 [==============================] - 5s 2ms/step - loss: 1.2403 - accuracy: 0.5599 - val_loss: 1.3787 - val_accuracy: 0.5094\n",
      "Epoch 13/15\n",
      "3125/3125 [==============================] - 5s 2ms/step - loss: 1.2166 - accuracy: 0.5647 - val_loss: 1.3410 - val_accuracy: 0.5237\n",
      "Epoch 14/15\n",
      "3125/3125 [==============================] - 5s 2ms/step - loss: 1.1935 - accuracy: 0.5755 - val_loss: 1.3749 - val_accuracy: 0.5106\n",
      "Epoch 15/15\n",
      "3125/3125 [==============================] - 5s 2ms/step - loss: 1.1700 - accuracy: 0.5805 - val_loss: 1.3542 - val_accuracy: 0.5246\n"
     ]
    }
   ],
   "source": [
    "x_train,x_test =x_train/255, x_test/255\n",
    "# creating network\n",
    "net = models.Sequential([\n",
    "                       layers.Flatten(),\n",
    "                       layers.Dense(400,activation=\"relu\"),\n",
    "                       layers.Dense(200,activation=\"relu\"),\n",
    "                       layers.Dense(80,activation=\"relu\"),\n",
    "                       layers.Dense(10,activation=\"softmax\")\n",
    "])\n",
    "\n",
    "net.compile(optimizer=\"SGD\",metrics=[\"accuracy\"],\n",
    "# WITH OUT ONE HOT encoding\n",
    "loss='sparse_categorical_crossentropy')\n",
    "H_net=net.fit(x_train,y_train,batch_size=16,epochs=15,validation_data=[x_test,y_test])"
   ]
  },
  {
   "cell_type": "code",
   "execution_count": 3,
   "metadata": {},
   "outputs": [
    {
     "data": {
      "image/png": "[encoded data removed]",
      "text/plain": [
       "<Figure size 432x288 with 1 Axes>"
      ]
     },
     "metadata": {
      "needs_background": "light"
     },
     "output_type": "display_data"
    }
   ],
   "source": [
    "import matplotlib.pyplot as plt \n",
    "\n",
    "plt.plot(H_net.history['accuracy'],label='train_accuracy')\n",
    "plt.plot(H_net.history['val_accuracy'],label='val_accuracy')\n",
    "plt.plot(H_net.history['loss'],label='train_loss')\n",
    "plt.plot(H_net.history['val_loss'],label='val_accuracy')\n",
    "plt.xlabel('epochs')\n",
    "plt.ylabel('sss')\n",
    "plt.title('classfication')\n",
    "plt.show()"
   ]
  },
  {
   "cell_type": "code",
   "execution_count": 7,
   "metadata": {},
   "outputs": [
    {
     "name": "stdout",
     "output_type": "stream",
     "text": [
      "Epoch 1/15\n",
      "1563/1563 [==============================] - 11s 7ms/step - loss: 1.9386 - accuracy: 0.2708 - val_loss: 1.8227 - val_accuracy: 0.3273\n",
      "Epoch 2/15\n",
      "1563/1563 [==============================] - 10s 6ms/step - loss: 1.7839 - accuracy: 0.3445 - val_loss: 1.7060 - val_accuracy: 0.3777\n",
      "Epoch 3/15\n",
      "1563/1563 [==============================] - 10s 7ms/step - loss: 1.7317 - accuracy: 0.3684 - val_loss: 1.7325 - val_accuracy: 0.3718\n",
      "Epoch 4/15\n",
      "1563/1563 [==============================] - 10s 7ms/step - loss: 1.6858 - accuracy: 0.3897 - val_loss: 1.6548 - val_accuracy: 0.4029\n",
      "Epoch 5/15\n",
      "1563/1563 [==============================] - 10s 6ms/step - loss: 1.6472 - accuracy: 0.4045 - val_loss: 1.6512 - val_accuracy: 0.4039\n",
      "Epoch 6/15\n",
      "1563/1563 [==============================] - 9s 6ms/step - loss: 1.6241 - accuracy: 0.4144 - val_loss: 1.6035 - val_accuracy: 0.4228\n",
      "Epoch 7/15\n",
      "1563/1563 [==============================] - 10s 7ms/step - loss: 1.6022 - accuracy: 0.4202 - val_loss: 1.5923 - val_accuracy: 0.4305\n",
      "Epoch 8/15\n",
      "1563/1563 [==============================] - 10s 6ms/step - loss: 1.5868 - accuracy: 0.4274 - val_loss: 1.5816 - val_accuracy: 0.4316\n",
      "Epoch 9/15\n",
      "1563/1563 [==============================] - 9s 6ms/step - loss: 1.5749 - accuracy: 0.4311 - val_loss: 1.6207 - val_accuracy: 0.4218\n",
      "Epoch 10/15\n",
      "1563/1563 [==============================] - 11s 7ms/step - loss: 1.5637 - accuracy: 0.4365 - val_loss: 1.6569 - val_accuracy: 0.4198\n",
      "Epoch 11/15\n",
      "1563/1563 [==============================] - 11s 7ms/step - loss: 1.5514 - accuracy: 0.4412 - val_loss: 1.5446 - val_accuracy: 0.4512\n",
      "Epoch 12/15\n",
      "1563/1563 [==============================] - 13s 8ms/step - loss: 1.5469 - accuracy: 0.4443 - val_loss: 1.5797 - val_accuracy: 0.4310\n",
      "Epoch 13/15\n",
      "1563/1563 [==============================] - 11s 7ms/step - loss: 1.5358 - accuracy: 0.4488 - val_loss: 1.5452 - val_accuracy: 0.4415\n",
      "Epoch 14/15\n",
      "1563/1563 [==============================] - 13s 8ms/step - loss: 1.5291 - accuracy: 0.4516 - val_loss: 1.5690 - val_accuracy: 0.4376\n",
      "Epoch 15/15\n",
      "1563/1563 [==============================] - 12s 8ms/step - loss: 1.5246 - accuracy: 0.4536 - val_loss: 1.5540 - val_accuracy: 0.4478\n"
     ]
    }
   ],
   "source": [
    "x_train,x_test =x_train/255, x_test/255\n",
    "\n",
    "opt=tf.keras.optimizers.Adam(learning_rate=0.01)\n",
    "# creating network\n",
    "net = models.Sequential([\n",
    "                       layers.Flatten(),\n",
    "                       layers.Dense(400,activation=\"relu\"),\n",
    "                       layers.Dense(200,activation=\"relu\"),\n",
    "                       layers.Dense(80,activation=\"relu\"),\n",
    "                       layers.Dense(10,activation=\"softmax\")\n",
    "])\n",
    "\n",
    "net.compile(optimizer=opt,metrics=[\"accuracy\"],\n",
    "# WITH OUT ONE HOT encoding\n",
    "loss='sparse_categorical_crossentropy')\n",
    "H_net=net.fit(x_train,y_train,batch_size=32,epochs=15,validation_data=[x_test,y_test])\n"
   ]
  },
  {
   "cell_type": "code",
   "execution_count": 9,
   "metadata": {},
   "outputs": [
    {
     "data": {
      "image/png": "[encoded data removed]",
      "text/plain": [
       "<Figure size 432x288 with 1 Axes>"
      ]
     },
     "metadata": {},
     "output_type": "display_data"
    }
   ],
   "source": [
    "import matplotlib.pyplot as plt \n",
    "plt.style.use('ggplot')\n",
    "plt.plot(H_net.history['accuracy'],label='train_accuracy')\n",
    "plt.plot(H_net.history['val_accuracy'],label='val_accuracy')\n",
    "plt.plot(H_net.history['loss'],label='train_loss')\n",
    "plt.plot(H_net.history['val_loss'],label='val_accuracy')\n",
    "plt.xlabel('epochs')\n",
    "plt.ylabel('sss')\n",
    "plt.title('classfication')\n",
    "plt.show()"
   ]
  },
  {
   "cell_type": "code",
   "execution_count": null,
   "metadata": {},
   "outputs": [],
   "source": []
  }
 ],
 "metadata": {
  "interpreter": {
   "hash": "7b4b38f84c893d4679228e7d3ce472830242e3f4b95a448debba7d0e68d7549a"
  },
  "kernelspec": {
   "display_name": "Python 3 (ipykernel)",
   "language": "python",
   "name": "python3"
  },
  "language_info": {
   "codemirror_mode": {
    "name": "ipython",
    "version": 3
   },
   "file_extension": ".py",
   "mimetype": "text/x-python",
   "name": "python",
   "nbconvert_exporter": "python",
   "pygments_lexer": "ipython3",
   "version": "3.9.12"
  }
 },
 "nbformat": 4,
 "nbformat_minor": 2
}
