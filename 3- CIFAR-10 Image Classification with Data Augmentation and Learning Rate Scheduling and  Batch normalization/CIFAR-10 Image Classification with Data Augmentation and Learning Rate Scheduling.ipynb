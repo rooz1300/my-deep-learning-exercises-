{
 "cells": [
  {
   "cell_type": "markdown",
   "metadata": {},
   "source": [
    "# CIFAR-10 Image Classification with Data Augmentation and Learning Rate Scheduling\n",
    "\n",
    "This Jupyter notebook demonstrates the process of building and training a Convolutional Neural Network (CNN) for image classification using the CIFAR-10 dataset. The dataset consists of 60,000 32x32 color images in 10 classes, with 6,000 images per class. Data augmentation and learning rate scheduling techniques are used to improve the model's performance.\n",
    "\n",
    "## Table of Contents\n",
    "1. [Imports and Setup](#imports-and-setup)\n",
    "2. [Data Loading and Preprocessing](#data-loading-and-preprocessing)\n",
    "3. [Data Augmentation](#data-augmentation)\n",
    "4. [Model Building and Training](#model-building-and-training)\n",
    "5. [Results Visualization](#results-visualization)\n",
    "\n",
    "## Imports and Setup\n",
    "\n",
    "We start by importing the necessary libraries and modules.\n",
    "\n",
    "```python\n",
    "import tensorflow as tf\n",
    "from tensorflow.keras.preprocessing.image import ImageDataGenerator\n",
    "from tensorflow.keras import models, layers\n",
    "from tensorflow.keras.datasets import cifar10\n",
    "from sklearn.preprocessing import LabelBinarizer\n",
    "import os\n",
    "import matplotlib.pyplot as plt\n",
    "```\n",
    "\n",
    "We also check if a GPU is available for training.\n",
    "\n",
    "```python\n",
    "device_name = tf.test.gpu_device_name()\n",
    "if device_name != '/device:GPU:0':\n",
    "  raise SystemError('GPU device not found')\n",
    "print('Found GPU at: {}'.format(device_name))\n",
    "```\n",
    "\n",
    "## Data Loading and Preprocessing\n",
    "\n",
    "The CIFAR-10 dataset is loaded using TensorFlow's built-in function. The data is then normalized by dividing the pixel values by 255 to scale them between 0 and 1. The labels are one-hot encoded using LabelBinarizer.\n",
    "\n",
    "```python\n",
    "(x_train, y_train), (x_test, y_test) = cifar10.load_data()\n",
    "le = LabelBinarizer()\n",
    "y_train = le.fit_transform(y_train)\n",
    "y_test = le.transform(y_test)\n",
    "x_train, x_test = x_train / 255, x_test / 255\n",
    "```\n",
    "\n",
    "## Data Augmentation\n",
    "\n",
    "Data augmentation is used to artificially increase the size of the training set by applying random transformations to the images. This helps to prevent overfitting and improve the model's ability to generalize.\n",
    "\n",
    "```python\n",
    "aug = ImageDataGenerator(\n",
    "    rotation_range=20,\n",
    "    width_shift_range=0.1,\n",
    "    height_shift_range=0.1,\n",
    "    shear_range=0.2,\n",
    "    zoom_range=0.2,\n",
    "    horizontal_flip=True,\n",
    "    fill_mode='nearest',\n",
    ")\n",
    "```\n",
    "\n",
    "## Model Building and Training\n",
    "\n",
    "We create a CNN model using TensorFlow's Sequential API. The model consists of convolutional layers, batch normalization layers, max pooling layers, and fully connected layers. The output layer uses a softmax activation function for multi-class classification.\n",
    "\n",
    "```python\n",
    "net = models.Sequential([\n",
    "    layers.Conv2D(32, (3, 3), activation=\"relu\", input_shape=(32, 32, 3)),\n",
    "    layers.BatchNormalization(),\n",
    "    layers.Conv2D(32, (3, 3), activation=\"relu\"),\n",
    "    layers.BatchNormalization(),\n",
    "    layers.MaxPool2D(),\n",
    "    layers.Conv2D(64, (3, 3), activation=\"relu\"),\n",
    "    layers.BatchNormalization(),\n",
    "    layers.Conv2D(64, (3, 3), activation=\"relu\"),\n",
    "    layers.BatchNormalization(),\n",
    "    layers.MaxPool2D(),\n",
    "    layers.Flatten(),\n",
    "    layers.Dense(512, activation=\"relu\"),\n",
    "    layers.BatchNormalization(),\n",
    "    layers.Dense(10, activation=\"softmax\")\n",
    "])\n",
    "```\n",
    "\n",
    "We compile the model using the SGD optimizer and categorical cross-entropy loss function. A learning rate scheduler is used to adjust the learning rate during training.\n",
    "\n",
    "```python\n",
    "opt = tf.keras.optimizers.SGD()\n",
    "bsize = 32\n",
    "net.compile(optimizer=opt, metrics=[\"accuracy\"], loss=['categorical_crossentropy'])\n",
    "H_net = net.fit(aug.flow(x_train, y_train, batch_size=bsize), steps_per_epoch=len(x_train) // bsize, epochs=15, validation_data=[x_test, y_test])\n",
    "```\n",
    "\n",
    "## Results Visualization\n",
    "\n",
    "Finally, we visualize the training and validation accuracy and loss using Matplotlib.\n",
    "\n",
    "```python\n",
    "plt.style.use('ggplot')\n",
    "plt.plot(H_net.history['accuracy'], label='train_accuracy')\n",
    "plt.plot(H_net.history['val_accuracy'], label='val_accuracy')\n",
    "plt.plot(H_net.history['loss'], label='train_loss')\n",
    "plt.plot(H_net.history['val_loss'], label='val_loss')\n",
    "plt.xlabel('epochs')\n",
    "plt.ylabel('sss')\n",
    "plt.title('classfication')\n",
    "plt.show()\n",
    "```\n",
    "\n",
    "The resulting plot allows us to analyze the model's performance and identify any potential issues, such as overfitting or underfitting."
   ]
  },
  {
   "cell_type": "code",
   "execution_count": 1,
   "metadata": {},
   "outputs": [],
   "source": [
    "#tensorflow_version 2.x\n",
    "import tensorflow as tf\n",
    "device_name = tf.test.gpu_device_name()\n",
    "#if device_name != '/device:GPU:0':\n",
    "#  raise SystemError('GPU device not found')\n",
    "#print('Found GPU at: {}'.format(device_name))"
   ]
  },
  {
   "cell_type": "code",
   "execution_count": 2,
   "metadata": {},
   "outputs": [],
   "source": [
    "from tensorflow.keras.preprocessing.image import ImageDataGenerator\n",
    "aug = ImageDataGenerator(\n",
    "    rotation_range=20,\n",
    "    width_shift_range= 0.1,\n",
    "    height_shift_range=0.1,\n",
    "    shear_range=0.2,\n",
    "    zoom_range=0.2,\n",
    "    horizontal_flip=True,\n",
    "    fill_mode='nearest',\n",
    ")"
   ]
  },
  {
   "cell_type": "code",
   "execution_count": 3,
   "metadata": {},
   "outputs": [],
   "source": [
    "import os \n",
    "import tensorflow as tf\n",
    "os.environ['TF_CPP_MIN_LOG_LEVEL']='3'\n",
    "from tensorflow.keras import models, layers\n",
    "from tensorflow.keras.datasets import cifar10\n",
    "(x_train,y_train),(x_test,y_test) = cifar10.load_data()\n",
    "from sklearn.preprocessing import LabelBinarizer\n",
    "le = LabelBinarizer()\n",
    "y_train=le.fit_transform(y_train)\n",
    "y_test=le.transform(y_test)"
   ]
  },
  {
   "cell_type": "code",
   "execution_count": 4,
   "metadata": {},
   "outputs": [],
   "source": [
    "x_train,x_test =x_train/255, x_test/255\n",
    "def scheduler(epoch, lr):\n",
    "  if epoch <=2:\n",
    "     return 0.1\n",
    "  else:\n",
    "     return 0.01\n",
    "callback = tf.keras.callbacks.LearningRateScheduler(scheduler)"
   ]
  },
  {
   "cell_type": "code",
   "execution_count": 5,
   "metadata": {},
   "outputs": [],
   "source": [
    "x_train,x_test =x_train/255, x_test/255\n",
    "\n",
    "\n",
    "# creating network\n",
    "net = models.Sequential([\n",
    "    layers.Conv2D(32, (3, 3), activation=\"relu\", input_shape= (32, 32, 3)),\n",
    "    layers.BatchNormalization(), \n",
    "    layers.Conv2D(32, (3, 3), activation=\"relu\"),\n",
    "    layers.BatchNormalization(), \n",
    "    layers.MaxPool2D(),\n",
    "    layers.Conv2D(64, (3, 3), activation=\"relu\"),\n",
    "    layers.BatchNormalization(),\n",
    "    layers.Conv2D(64, (3, 3), activation=\"relu\"),\n",
    "    layers.BatchNormalization(), \n",
    "    layers.MaxPool2D(),\n",
    "    layers.Flatten(), \n",
    "    layers.Dense(512, activation=\"relu\"),\n",
    "    layers.BatchNormalization(),\n",
    "    layers .Dense( 10, activation=\"softmax\")\n",
    "\n",
    "\n",
    "])\n",
    "\n"
   ]
  },
  {
   "cell_type": "code",
   "execution_count": 8,
   "metadata": {},
   "outputs": [
    {
     "name": "stdout",
     "output_type": "stream",
     "text": [
      "Epoch 1/15\n",
      "1562/1562 [==============================] - 121s 77ms/step - loss: 1.6703 - accuracy: 0.4103 - val_loss: 1.8923 - val_accuracy: 0.3663\n",
      "Epoch 2/15\n",
      "1562/1562 [==============================] - 119s 76ms/step - loss: 1.3704 - accuracy: 0.5136 - val_loss: 1.4904 - val_accuracy: 0.4844\n",
      "Epoch 3/15\n",
      "1562/1562 [==============================] - 126s 81ms/step - loss: 1.2460 - accuracy: 0.5605 - val_loss: 1.4605 - val_accuracy: 0.5140\n",
      "Epoch 4/15\n",
      "1562/1562 [==============================] - 125s 80ms/step - loss: 1.1660 - accuracy: 0.5890 - val_loss: 2.8664 - val_accuracy: 0.3270\n",
      "Epoch 5/15\n",
      "1562/1562 [==============================] - 126s 81ms/step - loss: 1.1122 - accuracy: 0.6111 - val_loss: 1.1880 - val_accuracy: 0.5969\n",
      "Epoch 6/15\n",
      "1562/1562 [==============================] - 121s 78ms/step - loss: 1.0622 - accuracy: 0.6282 - val_loss: 1.9626 - val_accuracy: 0.4912\n",
      "Epoch 7/15\n",
      "1562/1562 [==============================] - 126s 80ms/step - loss: 1.0244 - accuracy: 0.6406 - val_loss: 1.1218 - val_accuracy: 0.6095\n",
      "Epoch 8/15\n",
      "1562/1562 [==============================] - 123s 79ms/step - loss: 0.9973 - accuracy: 0.6531 - val_loss: 1.3304 - val_accuracy: 0.5466\n",
      "Epoch 9/15\n",
      "1562/1562 [==============================] - 114s 73ms/step - loss: 0.9643 - accuracy: 0.6638 - val_loss: 2.1024 - val_accuracy: 0.4591\n",
      "Epoch 10/15\n",
      "1562/1562 [==============================] - 109s 70ms/step - loss: 0.9359 - accuracy: 0.6715 - val_loss: 2.1568 - val_accuracy: 0.4621\n",
      "Epoch 11/15\n",
      "1562/1562 [==============================] - 109s 70ms/step - loss: 0.9124 - accuracy: 0.6819 - val_loss: 1.0697 - val_accuracy: 0.6355\n",
      "Epoch 12/15\n",
      "1562/1562 [==============================] - 114s 73ms/step - loss: 0.8935 - accuracy: 0.6881 - val_loss: 1.6611 - val_accuracy: 0.5277\n",
      "Epoch 13/15\n",
      "1562/1562 [==============================] - 108s 69ms/step - loss: 0.8696 - accuracy: 0.6970 - val_loss: 0.9673 - val_accuracy: 0.6865\n",
      "Epoch 14/15\n",
      "1562/1562 [==============================] - 129s 83ms/step - loss: 0.8598 - accuracy: 0.6997 - val_loss: 1.2512 - val_accuracy: 0.6067\n",
      "Epoch 15/15\n",
      "1562/1562 [==============================] - 121s 78ms/step - loss: 0.8412 - accuracy: 0.7084 - val_loss: 0.8200 - val_accuracy: 0.7137\n"
     ]
    }
   ],
   "source": [
    "opt=tf.keras.optimizers.SGD()\n",
    "bsize=32\n",
    "net.compile(optimizer=opt,metrics=[\"accuracy\"],\n",
    "# WITH OUT ONE HOT encoding\n",
    "loss=['categorical_crossentropy'])\n",
    "H_net=net.fit(aug.flow(x_train,y_train,batch_size=bsize) ,steps_per_epoch=len(x_train)// bsize,\n",
    "epochs=15,validation_data=[x_test,y_test])\n"
   ]
  },
  {
   "cell_type": "code",
   "execution_count": 9,
   "metadata": {},
   "outputs": [
    {
     "data": {
      "image/png": "[encoded data removed]",
      "text/plain": [
       "<Figure size 432x288 with 1 Axes>"
      ]
     },
     "metadata": {},
     "output_type": "display_data"
    }
   ],
   "source": [
    "import matplotlib.pyplot as plt \n",
    "plt.style.use('ggplot')\n",
    "plt.plot(H_net.history['accuracy'],label='train_accuracy')\n",
    "plt.plot(H_net.history['val_accuracy'],label='val_accuracy')\n",
    "plt.plot(H_net.history['loss'],label='train_loss')\n",
    "plt.plot(H_net.history['val_loss'],label='val_accuracy')\n",
    "plt.xlabel('epochs')\n",
    "plt.ylabel('sss')\n",
    "plt.title('classfication')\n",
    "plt.show()"
   ]
  },
  {
   "cell_type": "code",
   "execution_count": 10,
   "metadata": {},
   "outputs": [],
   "source": [
    "net.save('imgen_net.h5')"
   ]
  },
  {
   "cell_type": "code",
   "execution_count": null,
   "metadata": {},
   "outputs": [],
   "source": []
  }
 ],
 "metadata": {
  "interpreter": {
   "hash": "7b4b38f84c893d4679228e7d3ce472830242e3f4b95a448debba7d0e68d7549a"
  },
  "kernelspec": {
   "display_name": "Python 3.8.8 ('base')",
   "language": "python",
   "name": "python3"
  },
  "language_info": {
   "codemirror_mode": {
    "name": "ipython",
    "version": 3
   },
   "file_extension": ".py",
   "mimetype": "text/x-python",
   "name": "python",
   "nbconvert_exporter": "python",
   "pygments_lexer": "ipython3",
   "version": "3.8.8"
  },
  "orig_nbformat": 4
 },
 "nbformat": 4,
 "nbformat_minor": 2
}
